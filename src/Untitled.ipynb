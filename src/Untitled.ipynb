{
 "cells": [
  {
   "cell_type": "code",
   "execution_count": 1,
   "id": "dbcb8474-c089-4ac4-8bc7-b83ba1a55496",
   "metadata": {},
   "outputs": [
    {
     "name": "stderr",
     "output_type": "stream",
     "text": [
      "/home/dema/.cache/pypoetry/virtualenvs/condor-7v1muyD9-py3.8/lib/python3.8/site-packages/tqdm/auto.py:21: TqdmWarning: IProgress not found. Please update jupyter and ipywidgets. See https://ipywidgets.readthedocs.io/en/stable/user_install.html\n",
      "  from .autonotebook import tqdm as notebook_tqdm\n"
     ]
    }
   ],
   "source": [
    "import matplotlib.pyplot as plt\n",
    "import numpy as np\n",
    "import torch"
   ]
  },
  {
   "cell_type": "code",
   "execution_count": 2,
   "id": "510d6214-eb82-47e6-ad61-37646e6e05c2",
   "metadata": {},
   "outputs": [
    {
     "data": {
      "text/plain": [
       "'/home/dema/Project/Multi-Condor/multi_condor_2/src'"
      ]
     },
     "execution_count": 2,
     "metadata": {},
     "output_type": "execute_result"
    }
   ],
   "source": [
    "import os, sys\n",
    "os.getcwd()"
   ]
  },
  {
   "cell_type": "code",
   "execution_count": 3,
   "id": "6f12e89d-2693-43ea-90f8-66a09b45607b",
   "metadata": {},
   "outputs": [
    {
     "data": {
      "text/plain": [
       "['mean_distance_to_goal.npy',\n",
       " 'RMSE.npy',\n",
       " 'FD.npy',\n",
       " 'n_unsuccesful_trajs.npy',\n",
       " 'DTWD.npy']"
      ]
     },
     "execution_count": 3,
     "metadata": {},
     "output_type": "execute_result"
    }
   ],
   "source": [
    "path = 'results/multivariate_double_attractor_mapping_099_lambda/eval_time_stabVsG1/stats/'\n",
    "os.listdir(path)"
   ]
  },
  {
   "cell_type": "code",
   "execution_count": 228,
   "id": "e0b9d744-6cd0-46de-9c9c-38a4030d2cb3",
   "metadata": {},
   "outputs": [],
   "source": [
    "AVG = []\n",
    "RMSE = []\n"
   ]
  },
  {
   "cell_type": "code",
   "execution_count": 328,
   "id": "c58f63b5-d300-486d-9f8f-19ab337d4f38",
   "metadata": {},
   "outputs": [],
   "source": [
    "AVG_safe = {\n",
    "    '1.0': 1.733655250885597,\n",
    "    '0.9': 1.5076096937813004,\n",
    "    '0.8': 1.2077921854870877,\n",
    "    '0.7': 0.982782540467494,\n",
    "    '0.5': 1.6020603770277386,\n",
    "    '0.3': 2.138588703394552,\n",
    "    '0.2': 1.8281550849667227,\n",
    "    '0.1': 2.129663616598096,\n",
    "    '0.05': 2.4899092828767393\n",
    "}\n",
    "\n",
    "RMSE_safe = {\n",
    "    '1.0': 8.548649434547483,\n",
    "    '0.9': 6.571457515267078,\n",
    "    '0.8': 6.798932793096785,\n",
    "    '0.7': 9.74292282589966,\n",
    "    '0.5': 7.2397662794736215,\n",
    "    '0.3': 6.34600208245534,\n",
    "    '0.2': 6.145766359463505,\n",
    "    '0.1': 6.596390027577217,\n",
    "    '0.05': 5.992934600047267\n",
    "    \n",
    "}"
   ]
  },
  {
   "cell_type": "code",
   "execution_count": 19,
   "id": "a3299494-8c6a-4755-a105-6a0034712b93",
   "metadata": {},
   "outputs": [
    {
     "data": {
      "text/plain": [
       "['mean_distance_to_goal.npy',\n",
       " 'RMSE.npy',\n",
       " 'FD.npy',\n",
       " 'n_unsuccesful_trajs.npy',\n",
       " 'DTWD.npy']"
      ]
     },
     "execution_count": 19,
     "metadata": {},
     "output_type": "execute_result"
    }
   ],
   "source": [
    "os.listdir(path)"
   ]
  },
  {
   "cell_type": "code",
   "execution_count": 21,
   "id": "884852b6-6791-4902-9f92-58f7e9ae1f7b",
   "metadata": {},
   "outputs": [
    {
     "data": {
      "text/plain": [
       "array([250.57542721,  51.93522627,   3.52797124,   2.48990928,\n",
       "         5.62860591,   7.22605558,   2.9673124 ,   4.02767825,\n",
       "         5.92993153,   3.95551693,   3.00559196,   3.78410659])"
      ]
     },
     "execution_count": 21,
     "metadata": {},
     "output_type": "execute_result"
    }
   ],
   "source": [
    "n_spurious = np.load(path+'mean_distance_to_goal.npy')\n",
    "n_spurious"
   ]
  },
  {
   "cell_type": "code",
   "execution_count": 17,
   "id": "c4b85d0c-6e6c-4874-89f0-ae426b5ff125",
   "metadata": {},
   "outputs": [
    {
     "data": {
      "text/plain": [
       "2.0119393615659305"
      ]
     },
     "execution_count": 17,
     "metadata": {},
     "output_type": "execute_result"
    }
   ],
   "source": [
    "rmse = np.load(path+\"\")\n",
    "rmse.std(axis=1).min()"
   ]
  },
  {
   "cell_type": "code",
   "execution_count": 18,
   "id": "cd6a9404-6e7c-45b2-9e52-3d45d7523d50",
   "metadata": {},
   "outputs": [
    {
     "data": {
      "text/plain": [
       "(2.4899092828767393, 3.5559641887650675)"
      ]
     },
     "execution_count": 18,
     "metadata": {},
     "output_type": "execute_result"
    }
   ],
   "source": [
    "rmse = np.load(path+'DTWD.npy').mean(1).min()\n",
    "avg = np.load(path+'mean_distance_to_goal.npy').min()\n",
    "avg, rmse"
   ]
  },
  {
   "cell_type": "code",
   "execution_count": 329,
   "id": "4f4d9684-b2fb-4005-be06-364deaaff279",
   "metadata": {},
   "outputs": [
    {
     "data": {
      "text/plain": [
       "([1.733655250885597,\n",
       "  1.5076096937813004,\n",
       "  1.2077921854870877,\n",
       "  0.982782540467494,\n",
       "  1.6020603770277386,\n",
       "  2.138588703394552,\n",
       "  1.8281550849667227,\n",
       "  2.129663616598096,\n",
       "  2.4899092828767393],\n",
       " [8.548649434547483,\n",
       "  6.571457515267078,\n",
       "  6.798932793096785,\n",
       "  9.74292282589966,\n",
       "  7.2397662794736215,\n",
       "  6.34600208245534,\n",
       "  6.145766359463505,\n",
       "  6.596390027577217,\n",
       "  5.992934600047267])"
      ]
     },
     "execution_count": 329,
     "metadata": {},
     "output_type": "execute_result"
    }
   ],
   "source": [
    "AVG = []\n",
    "RMSE = []\n",
    "for k, i in AVG_safe.items():\n",
    "    AVG.append(i)\n",
    "    RMSE.append(RMSE_safe[k])\n",
    "AVG, RMSE"
   ]
  },
  {
   "cell_type": "code",
   "execution_count": 330,
   "id": "cd9a422b-8d0c-4085-9e09-cb530be12a72",
   "metadata": {},
   "outputs": [
    {
     "data": {
      "text/plain": [
       "[1.0, 0.9, 0.8, 0.7, 0.5, 0.3, 0.2, 0.1, 0.05]"
      ]
     },
     "execution_count": 330,
     "metadata": {},
     "output_type": "execute_result"
    }
   ],
   "source": [
    "params = list(AVG_safe.keys())\n",
    "params = [float(p) for p in params]\n",
    "params"
   ]
  },
  {
   "cell_type": "code",
   "execution_count": 331,
   "id": "a99943e1-f0c4-4b08-8534-80d30ed50c21",
   "metadata": {},
   "outputs": [
    {
     "data": {
      "image/png": "[encoded data removed]",
      "text/plain": [
       "<Figure size 640x480 with 2 Axes>"
      ]
     },
     "metadata": {},
     "output_type": "display_data"
    }
   ],
   "source": [
    "# plt.plot(AVG, RMSE)\n",
    "scatter = plt.scatter(AVG, RMSE, c=params, cmap='viridis')\n",
    "cbar = plt.colorbar(scatter)\n",
    "plt.xlabel('distance to goals')\n",
    "plt.ylabel('avg RMSE')\n",
    "cbar.set_label('Hyperparameter Value', rotation=270, labelpad=15)\n"
   ]
  },
  {
   "cell_type": "code",
   "execution_count": 222,
   "id": "86ac3afd-9c70-48c3-b8f0-dabcf12d7280",
   "metadata": {},
   "outputs": [
    {
     "data": {
      "text/plain": [
       "(29, 12)"
      ]
     },
     "execution_count": 222,
     "metadata": {},
     "output_type": "execute_result"
    }
   ],
   "source": [
    "\n",
    "RMSE3 = np.load(path+'RMSE.npy')\n",
    "DTWD3 = np.load(path+\"DTWD.npy\")\n",
    "FD3 = np.load(path+\"FD.npy\")\n",
    "AVG3 = np.load(path+\"mean_distance_to_goal.npy\")\n",
    "RMSE3.shape"
   ]
  },
  {
   "cell_type": "code",
   "execution_count": 223,
   "id": "2fca3cdd-40d0-4391-87a1-7a8c7ebabfad",
   "metadata": {},
   "outputs": [
    {
     "name": "stdout",
     "output_type": "stream",
     "text": [
      "10.818179564936841 4.334686736294334 10.689748402345032 1.035980485432838\n"
     ]
    },
    {
     "data": {
      "text/plain": [
       "(7.763332161459268, 1.9256608287382362, 7.000757179772515, 64.25482092134216)"
      ]
     },
     "execution_count": 223,
     "metadata": {},
     "output_type": "execute_result"
    }
   ],
   "source": [
    "id = (RMSE3.mean(axis=1) + DTWD3.mean(axis=1) + FD3.mean(axis=1)).argmin()\n",
    "print(RMSE3.mean(axis=1)[id], DTWD3.mean(axis=1)[id], FD3.mean(axis=1)[id], AVG3.min())\n",
    "RMSE3.std(axis=1)[id], DTWD3.std(axis=1)[id], FD3.std(axis=1)[id], AVG3.std()"
   ]
  },
  {
   "cell_type": "code",
   "execution_count": 206,
   "id": "654b793f-a211-440c-83af-77d76f79d16d",
   "metadata": {},
   "outputs": [
    {
     "name": "stdout",
     "output_type": "stream",
     "text": [
      "9.796857290066653 4.626516812267792 11.964926632317576 1.619781439331255\n"
     ]
    },
    {
     "data": {
      "text/plain": [
       "(6.186860695439876, 1.680374839046999, 8.560867185786854, 1.619781439331255)"
      ]
     },
     "execution_count": 206,
     "metadata": {},
     "output_type": "execute_result"
    }
   ],
   "source": [
    "id = (RMSE2.mean(axis=1) + DTWD2.mean(axis=1) + FD2.mean(axis=1)).argmin()\n",
    "print(RMSE2.mean(axis=1)[id], DTWD2.mean(axis=1)[id], FD2.mean(axis=1)[id], AVG2.min())\n",
    "RMSE2.std(axis=1)[id], DTWD2.std(axis=1)[id], FD2.std(axis=1)[id], AVG2.min()"
   ]
  },
  {
   "cell_type": "code",
   "execution_count": 193,
   "id": "7173ca53-3dba-49dd-a482-70e43006b62f",
   "metadata": {},
   "outputs": [
    {
     "name": "stdout",
     "output_type": "stream",
     "text": [
      "11.60443749107768 4.648815857233216 12.142256974342095 2.3335710447759808\n"
     ]
    },
    {
     "data": {
      "text/plain": [
       "(8.043258203761683, 1.6724830494113874, 9.177245130952544, 2.3335710447759808)"
      ]
     },
     "execution_count": 193,
     "metadata": {},
     "output_type": "execute_result"
    }
   ],
   "source": [
    "id = (RMSE1.mean(axis=1) + DTWD1.mean(axis=1) + FD1.mean(axis=1)).argmin()\n",
    "print(RMSE1.mean(axis=1)[id], DTWD1.mean(axis=1)[id], FD1.mean(axis=1)[id], AVG1.min())\n",
    "RMSE1.std(axis=1)[id], DTWD1.std(axis=1)[id], FD1.std(axis=1)[id], AVG1.min()"
   ]
  },
  {
   "cell_type": "code",
   "execution_count": 209,
   "id": "f021033a-c7d5-4414-b4e6-3fc0c1674529",
   "metadata": {},
   "outputs": [
    {
     "data": {
      "text/plain": [
       "34"
      ]
     },
     "execution_count": 209,
     "metadata": {},
     "output_type": "execute_result"
    }
   ],
   "source": [
    "len(RMSE3)"
   ]
  },
  {
   "cell_type": "code",
   "execution_count": 119,
   "id": "6c453b63-6bc2-4217-ad13-45703cd5961c",
   "metadata": {},
   "outputs": [
    {
     "ename": "NameError",
     "evalue": "name 'RMSE0' is not defined",
     "output_type": "error",
     "traceback": [
      "\u001b[0;31m---------------------------------------------------------------------------\u001b[0m",
      "\u001b[0;31mNameError\u001b[0m                                 Traceback (most recent call last)",
      "Cell \u001b[0;32mIn[119], line 1\u001b[0m\n\u001b[0;32m----> 1\u001b[0m \u001b[38;5;28mid\u001b[39m \u001b[38;5;241m=\u001b[39m (\u001b[43mRMSE0\u001b[49m\u001b[38;5;241m.\u001b[39mmean(axis\u001b[38;5;241m=\u001b[39m\u001b[38;5;241m1\u001b[39m) \u001b[38;5;241m+\u001b[39m DTWD0\u001b[38;5;241m.\u001b[39mmean(axis\u001b[38;5;241m=\u001b[39m\u001b[38;5;241m1\u001b[39m) \u001b[38;5;241m+\u001b[39m FD0\u001b[38;5;241m.\u001b[39mmean(axis\u001b[38;5;241m=\u001b[39m\u001b[38;5;241m1\u001b[39m))\u001b[38;5;241m.\u001b[39margmin()\n\u001b[1;32m      2\u001b[0m RMSE0\u001b[38;5;241m.\u001b[39mmean(axis\u001b[38;5;241m=\u001b[39m\u001b[38;5;241m1\u001b[39m)[\u001b[38;5;28mid\u001b[39m], DTWD0\u001b[38;5;241m.\u001b[39mmean(axis\u001b[38;5;241m=\u001b[39m\u001b[38;5;241m1\u001b[39m)[\u001b[38;5;28mid\u001b[39m], FD0\u001b[38;5;241m.\u001b[39mmean(axis\u001b[38;5;241m=\u001b[39m\u001b[38;5;241m1\u001b[39m)[\u001b[38;5;28mid\u001b[39m], AVG0\u001b[38;5;241m.\u001b[39mmin()\n",
      "\u001b[0;31mNameError\u001b[0m: name 'RMSE0' is not defined"
     ]
    }
   ],
   "source": [
    "id = (RMSE0.mean(axis=1) + DTWD0.mean(axis=1) + FD0.mean(axis=1)).argmin()\n",
    "RMSE0.mean(axis=1)[id], DTWD0.mean(axis=1)[id], FD0.mean(axis=1)[id], AVG0.min()"
   ]
  },
  {
   "cell_type": "code",
   "execution_count": 138,
   "id": "de1aa0d3-656f-4e50-acad-9cd101b46a36",
   "metadata": {},
   "outputs": [
    {
     "data": {
      "text/plain": [
       "2"
      ]
     },
     "execution_count": 138,
     "metadata": {},
     "output_type": "execute_result"
    }
   ],
   "source": [
    "len(RMSE4)"
   ]
  },
  {
   "cell_type": "code",
   "execution_count": null,
   "id": "de8399ca-4e83-44a0-a4d6-9fba9f9e7cea",
   "metadata": {},
   "outputs": [],
   "source": []
  }
 ],
 "metadata": {
  "kernelspec": {
   "display_name": "Python (my_env_name)",
   "language": "python",
   "name": "my_env_name"
  },
  "language_info": {
   "codemirror_mode": {
    "name": "ipython",
    "version": 3
   },
   "file_extension": ".py",
   "mimetype": "text/x-python",
   "name": "python",
   "nbconvert_exporter": "python",
   "pygments_lexer": "ipython3",
   "version": "3.8.19"
  }
 },
 "nbformat": 4,
 "nbformat_minor": 5
}
